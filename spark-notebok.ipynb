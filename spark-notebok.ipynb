{
 "cells": [
  {
   "cell_type": "code",
   "execution_count": 13,
   "metadata": {},
   "outputs": [],
   "source": [
    "from pyspark.sql import SparkSession, types, functions as F"
   ]
  },
  {
   "cell_type": "code",
   "execution_count": 8,
   "metadata": {},
   "outputs": [],
   "source": [
    "spark = SparkSession.builder\\\n",
    "          .master('local[*]')\\\n",
    "          .appName('test')\\\n",
    "          .getOrCreate()"
   ]
  },
  {
   "cell_type": "code",
   "execution_count": null,
   "metadata": {},
   "outputs": [],
   "source": [
    "measurements_schema = types.StructType([\n",
    "  types.StructField('day', types.DateType(), False),\n",
    "  types.StructField('interval', types.IntegerType(), False),\n",
    "  types.StructField('detid', types.StringType(), False),\n",
    "  types.StructField('flow', types.IntegerType(), True),\n",
    "  types.StructField('occ', types.FloatType(), True),\n",
    "  types.StructField('error', types.FloatType(), True),\n",
    "  types.StructField('city', types.StringType(), False),\n",
    "  types.StructField('speed', types.FloatType(), True)\n",
    "])"
   ]
  },
  {
   "cell_type": "code",
   "execution_count": 20,
   "metadata": {},
   "outputs": [],
   "source": [
    "df = spark.read\\\n",
    "      .option('header', True)\\\n",
    "      .schema(measurements_schema)\\\n",
    "      .csv('./data/measurements_test.csv')"
   ]
  },
  {
   "cell_type": "code",
   "execution_count": 21,
   "metadata": {},
   "outputs": [
    {
     "name": "stdout",
     "output_type": "stream",
     "text": [
      "root\n",
      " |-- day: date (nullable = true)\n",
      " |-- interval: integer (nullable = true)\n",
      " |-- detid: string (nullable = true)\n",
      " |-- flow: integer (nullable = true)\n",
      " |-- occ: float (nullable = true)\n",
      " |-- error: integer (nullable = true)\n",
      " |-- city: string (nullable = true)\n",
      " |-- speed: float (nullable = true)\n",
      "\n"
     ]
    }
   ],
   "source": [
    "df.printSchema()"
   ]
  },
  {
   "cell_type": "code",
   "execution_count": 22,
   "metadata": {},
   "outputs": [
    {
     "name": "stdout",
     "output_type": "stream",
     "text": [
      "+----------+--------+--------+----+----+-----+--------+-----+\n",
      "|       day|interval|   detid|flow| occ|error|    city|speed|\n",
      "+----------+--------+--------+----+----+-----+--------+-----+\n",
      "|2017-05-06|       0|06.X-2li|  12| 0.0| NULL|augsburg| NULL|\n",
      "|2017-05-06|     300|06.X-2li|  12| 0.0| NULL|augsburg| NULL|\n",
      "|2017-05-06|     600|06.X-2li|  12| 0.0| NULL|augsburg| NULL|\n",
      "|2017-05-06|     900|06.X-2li|  16| 0.0| NULL|augsburg| NULL|\n",
      "|2017-05-06|    1200|06.X-2li|  16| 0.0| NULL|augsburg| NULL|\n",
      "|2017-05-06|    1500|06.X-2li|  16| 0.0| NULL|augsburg| NULL|\n",
      "|2017-05-06|    1800|06.X-2li|  20| 0.0| NULL|augsburg| NULL|\n",
      "|2017-05-06|    2100|06.X-2li|  20| 0.0| NULL|augsburg| NULL|\n",
      "|2017-05-06|    2400|06.X-2li|  20| 0.0| NULL|augsburg| NULL|\n",
      "|2017-05-06|    2700|06.X-2li|   8|0.01| NULL|augsburg| NULL|\n",
      "|2017-05-06|    3000|06.X-2li|   8|0.01| NULL|augsburg| NULL|\n",
      "|2017-05-06|    3300|06.X-2li|   8|0.01| NULL|augsburg| NULL|\n",
      "|2017-05-06|    3600|06.X-2li|   4| 0.0| NULL|augsburg| NULL|\n",
      "|2017-05-06|    3900|06.X-2li|   4| 0.0| NULL|augsburg| NULL|\n",
      "|2017-05-06|    4200|06.X-2li|   4| 0.0| NULL|augsburg| NULL|\n",
      "|2017-05-06|    4500|06.X-2li|   0| 0.0| NULL|augsburg| NULL|\n",
      "|2017-05-06|    4800|06.X-2li|   0| 0.0| NULL|augsburg| NULL|\n",
      "|2017-05-06|    5100|06.X-2li|   0| 0.0| NULL|augsburg| NULL|\n",
      "|2017-05-06|    5400|06.X-2li|   4| 0.0| NULL|augsburg| NULL|\n",
      "|2017-05-06|    5700|06.X-2li|   4| 0.0| NULL|augsburg| NULL|\n",
      "+----------+--------+--------+----+----+-----+--------+-----+\n",
      "only showing top 20 rows\n",
      "\n"
     ]
    }
   ],
   "source": [
    "df.show(20)"
   ]
  },
  {
   "cell_type": "code",
   "execution_count": 7,
   "metadata": {},
   "outputs": [],
   "source": [
    "spark.stop()"
   ]
  },
  {
   "cell_type": "code",
   "execution_count": null,
   "metadata": {},
   "outputs": [],
   "source": []
  }
 ],
 "metadata": {
  "kernelspec": {
   "display_name": ".venv",
   "language": "python",
   "name": "python3"
  },
  "language_info": {
   "codemirror_mode": {
    "name": "ipython",
    "version": 3
   },
   "file_extension": ".py",
   "mimetype": "text/x-python",
   "name": "python",
   "nbconvert_exporter": "python",
   "pygments_lexer": "ipython3",
   "version": "3.9.6"
  }
 },
 "nbformat": 4,
 "nbformat_minor": 2
}
