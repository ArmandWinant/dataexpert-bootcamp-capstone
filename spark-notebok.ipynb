{
 "cells": [
  {
   "cell_type": "code",
   "execution_count": 38,
   "metadata": {},
   "outputs": [],
   "source": [
    "from pyspark.sql import SparkSession, types, functions as F\n",
    "import datetime"
   ]
  },
  {
   "cell_type": "code",
   "execution_count": 8,
   "metadata": {},
   "outputs": [],
   "source": [
    "spark = SparkSession.builder\\\n",
    "          .master('local[*]')\\\n",
    "          .appName('test')\\\n",
    "          .getOrCreate()"
   ]
  },
  {
   "cell_type": "markdown",
   "metadata": {},
   "source": [
    "## Measurements"
   ]
  },
  {
   "cell_type": "code",
   "execution_count": 52,
   "metadata": {},
   "outputs": [],
   "source": [
    "def get_datetime(day, s):\n",
    "  delta = datetime.timedelta(seconds=s)\n",
    "  return day + delta"
   ]
  },
  {
   "cell_type": "code",
   "execution_count": 53,
   "metadata": {},
   "outputs": [],
   "source": [
    "get_datetime_udf = F.udf(get_datetime, returnType=types.TimestampType())"
   ]
  },
  {
   "cell_type": "code",
   "execution_count": 48,
   "metadata": {},
   "outputs": [],
   "source": [
    "# # date_python = datetime.datetime(year=1991, month=2, day=20, hour=0, minute=0, second=0)\n",
    "# date_python = datetime.date(year=2020, month=2, day=20)\n",
    "# seconds = 200\n",
    "# print(date_python)\n",
    "# print(measurement_datetime(date_python, seconds))"
   ]
  },
  {
   "cell_type": "code",
   "execution_count": 49,
   "metadata": {},
   "outputs": [],
   "source": [
    "measurements_schema = types.StructType([\n",
    "  types.StructField('day', types.TimestampType(), False),\n",
    "  types.StructField('interval', types.IntegerType(), False),\n",
    "  types.StructField('detid', types.StringType(), False),\n",
    "  types.StructField('flow', types.IntegerType(), True),\n",
    "  types.StructField('occ', types.FloatType(), True),\n",
    "  types.StructField('error', types.FloatType(), True),\n",
    "  types.StructField('city', types.StringType(), False),\n",
    "  types.StructField('speed', types.FloatType(), True)\n",
    "])"
   ]
  },
  {
   "cell_type": "code",
   "execution_count": 50,
   "metadata": {},
   "outputs": [],
   "source": [
    "measurements_schema = spark.read\\\n",
    "                        .option('header', True)\\\n",
    "                        .schema(measurements_schema)\\\n",
    "                        .csv('./data/measurements_test.csv')"
   ]
  },
  {
   "cell_type": "code",
   "execution_count": 54,
   "metadata": {},
   "outputs": [],
   "source": [
    "measurements_schema = measurements_schema.\\\n",
    "  withColumn('error', F.col('error').cast('integer')).\\\n",
    "  withColumn('datetime', get_datetime_udf('day', 'interval'))"
   ]
  },
  {
   "cell_type": "code",
   "execution_count": 55,
   "metadata": {},
   "outputs": [
    {
     "name": "stdout",
     "output_type": "stream",
     "text": [
      "root\n",
      " |-- day: timestamp (nullable = true)\n",
      " |-- interval: integer (nullable = true)\n",
      " |-- detid: string (nullable = true)\n",
      " |-- flow: integer (nullable = true)\n",
      " |-- occ: float (nullable = true)\n",
      " |-- error: integer (nullable = true)\n",
      " |-- city: string (nullable = true)\n",
      " |-- speed: float (nullable = true)\n",
      " |-- datetime: timestamp (nullable = true)\n",
      "\n"
     ]
    }
   ],
   "source": [
    "measurements_schema.printSchema()"
   ]
  },
  {
   "cell_type": "code",
   "execution_count": 56,
   "metadata": {},
   "outputs": [
    {
     "name": "stderr",
     "output_type": "stream",
     "text": [
      "[Stage 8:>                                                          (0 + 1) / 1]\r"
     ]
    },
    {
     "name": "stdout",
     "output_type": "stream",
     "text": [
      "+-------------------+--------+--------+----+----+-----+--------+-----+-------------------+\n",
      "|                day|interval|   detid|flow| occ|error|    city|speed|           datetime|\n",
      "+-------------------+--------+--------+----+----+-----+--------+-----+-------------------+\n",
      "|2017-05-06 00:00:00|       0|06.X-2li|  12| 0.0|    1|augsburg| NULL|2017-05-06 00:00:00|\n",
      "|2017-05-06 00:00:00|     300|06.X-2li|  12| 0.0|    1|augsburg| NULL|2017-05-06 00:05:00|\n",
      "|2017-05-06 00:00:00|     600|06.X-2li|  12| 0.0|    1|augsburg| NULL|2017-05-06 00:10:00|\n",
      "|2017-05-06 00:00:00|     900|06.X-2li|  16| 0.0|    1|augsburg| NULL|2017-05-06 00:15:00|\n",
      "|2017-05-06 00:00:00|    1200|06.X-2li|  16| 0.0|    1|augsburg| NULL|2017-05-06 00:20:00|\n",
      "|2017-05-06 00:00:00|    1500|06.X-2li|  16| 0.0|    1|augsburg| NULL|2017-05-06 00:25:00|\n",
      "|2017-05-06 00:00:00|    1800|06.X-2li|  20| 0.0|    1|augsburg| NULL|2017-05-06 00:30:00|\n",
      "|2017-05-06 00:00:00|    2100|06.X-2li|  20| 0.0|    1|augsburg| NULL|2017-05-06 00:35:00|\n",
      "|2017-05-06 00:00:00|    2400|06.X-2li|  20| 0.0|    1|augsburg| NULL|2017-05-06 00:40:00|\n",
      "|2017-05-06 00:00:00|    2700|06.X-2li|   8|0.01|    1|augsburg| NULL|2017-05-06 00:45:00|\n",
      "|2017-05-06 00:00:00|    3000|06.X-2li|   8|0.01|    1|augsburg| NULL|2017-05-06 00:50:00|\n",
      "|2017-05-06 00:00:00|    3300|06.X-2li|   8|0.01|    1|augsburg| NULL|2017-05-06 00:55:00|\n",
      "|2017-05-06 00:00:00|    3600|06.X-2li|   4| 0.0|    1|augsburg| NULL|2017-05-06 01:00:00|\n",
      "|2017-05-06 00:00:00|    3900|06.X-2li|   4| 0.0|    1|augsburg| NULL|2017-05-06 01:05:00|\n",
      "|2017-05-06 00:00:00|    4200|06.X-2li|   4| 0.0|    1|augsburg| NULL|2017-05-06 01:10:00|\n",
      "|2017-05-06 00:00:00|    4500|06.X-2li|   0| 0.0|    1|augsburg| NULL|2017-05-06 01:15:00|\n",
      "|2017-05-06 00:00:00|    4800|06.X-2li|   0| 0.0|    1|augsburg| NULL|2017-05-06 01:20:00|\n",
      "|2017-05-06 00:00:00|    5100|06.X-2li|   0| 0.0|    1|augsburg| NULL|2017-05-06 01:25:00|\n",
      "|2017-05-06 00:00:00|    5400|06.X-2li|   4| 0.0|    1|augsburg| NULL|2017-05-06 01:30:00|\n",
      "|2017-05-06 00:00:00|    5700|06.X-2li|   4| 0.0|    1|augsburg| NULL|2017-05-06 01:35:00|\n",
      "+-------------------+--------+--------+----+----+-----+--------+-----+-------------------+\n",
      "only showing top 20 rows\n",
      "\n"
     ]
    },
    {
     "name": "stderr",
     "output_type": "stream",
     "text": [
      "                                                                                \r"
     ]
    }
   ],
   "source": [
    "measurements_schema.show(20)"
   ]
  },
  {
   "cell_type": "code",
   "execution_count": 7,
   "metadata": {},
   "outputs": [],
   "source": [
    "spark.stop()"
   ]
  }
 ],
 "metadata": {
  "kernelspec": {
   "display_name": ".venv",
   "language": "python",
   "name": "python3"
  },
  "language_info": {
   "codemirror_mode": {
    "name": "ipython",
    "version": 3
   },
   "file_extension": ".py",
   "mimetype": "text/x-python",
   "name": "python",
   "nbconvert_exporter": "python",
   "pygments_lexer": "ipython3",
   "version": "3.9.6"
  }
 },
 "nbformat": 4,
 "nbformat_minor": 2
}
