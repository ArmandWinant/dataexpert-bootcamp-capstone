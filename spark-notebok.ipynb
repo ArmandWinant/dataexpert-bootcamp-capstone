{
 "cells": [
  {
   "cell_type": "code",
   "execution_count": 58,
   "metadata": {},
   "outputs": [],
   "source": [
    "from pyspark.sql import SparkSession, types, functions as F\n",
    "import datetime"
   ]
  },
  {
   "cell_type": "code",
   "execution_count": 59,
   "metadata": {},
   "outputs": [],
   "source": [
    "spark = SparkSession.builder\\\n",
    "          .master('local[*]')\\\n",
    "          .appName('test')\\\n",
    "          .getOrCreate()"
   ]
  },
  {
   "cell_type": "markdown",
   "metadata": {},
   "source": [
    "## Measurements"
   ]
  },
  {
   "cell_type": "code",
   "execution_count": 60,
   "metadata": {},
   "outputs": [],
   "source": [
    "def get_datetime(day, s):\n",
    "  delta = datetime.timedelta(seconds=s)\n",
    "  return day + delta"
   ]
  },
  {
   "cell_type": "code",
   "execution_count": 61,
   "metadata": {},
   "outputs": [],
   "source": [
    "get_datetime_udf = F.udf(get_datetime, returnType=types.TimestampType())"
   ]
  },
  {
   "cell_type": "code",
   "execution_count": 62,
   "metadata": {},
   "outputs": [],
   "source": [
    "measurements_schema = types.StructType([\n",
    "  types.StructField('day', types.TimestampType(), False),\n",
    "  types.StructField('interval', types.IntegerType(), False),\n",
    "  types.StructField('detid', types.StringType(), False),\n",
    "  types.StructField('flow', types.IntegerType(), True),\n",
    "  types.StructField('occ', types.FloatType(), True),\n",
    "  types.StructField('error', types.FloatType(), True),\n",
    "  types.StructField('city', types.StringType(), False),\n",
    "  types.StructField('speed', types.FloatType(), True)\n",
    "])"
   ]
  },
  {
   "cell_type": "code",
   "execution_count": 63,
   "metadata": {},
   "outputs": [],
   "source": [
    "measurements_schema = spark.read\\\n",
    "                        .option('header', True)\\\n",
    "                        .schema(measurements_schema)\\\n",
    "                        .csv('./data/measurements_test.csv')"
   ]
  },
  {
   "cell_type": "code",
   "execution_count": 65,
   "metadata": {},
   "outputs": [],
   "source": [
    "measurements_schema = measurements_schema.\\\n",
    "  withColumn('error', F.col('error').cast('integer')).\\\n",
    "  withColumn('datetime', get_datetime_udf('day', 'interval')).\\\n",
    "  drop('day', 'interval')"
   ]
  },
  {
   "cell_type": "code",
   "execution_count": 66,
   "metadata": {},
   "outputs": [
    {
     "name": "stdout",
     "output_type": "stream",
     "text": [
      "root\n",
      " |-- detid: string (nullable = true)\n",
      " |-- flow: integer (nullable = true)\n",
      " |-- occ: float (nullable = true)\n",
      " |-- error: integer (nullable = true)\n",
      " |-- city: string (nullable = true)\n",
      " |-- speed: float (nullable = true)\n",
      " |-- datetime: timestamp (nullable = true)\n",
      "\n"
     ]
    }
   ],
   "source": [
    "measurements_schema.printSchema()"
   ]
  },
  {
   "cell_type": "code",
   "execution_count": 67,
   "metadata": {},
   "outputs": [
    {
     "name": "stderr",
     "output_type": "stream",
     "text": [
      "[Stage 0:>                                                          (0 + 1) / 1]\r"
     ]
    },
    {
     "name": "stdout",
     "output_type": "stream",
     "text": [
      "+--------+----+----+-----+--------+-----+-------------------+\n",
      "|   detid|flow| occ|error|    city|speed|           datetime|\n",
      "+--------+----+----+-----+--------+-----+-------------------+\n",
      "|06.X-2li|  12| 0.0|    1|augsburg| NULL|2017-05-06 00:00:00|\n",
      "|06.X-2li|  12| 0.0|    1|augsburg| NULL|2017-05-06 00:05:00|\n",
      "|06.X-2li|  12| 0.0|    1|augsburg| NULL|2017-05-06 00:10:00|\n",
      "|06.X-2li|  16| 0.0|    1|augsburg| NULL|2017-05-06 00:15:00|\n",
      "|06.X-2li|  16| 0.0|    1|augsburg| NULL|2017-05-06 00:20:00|\n",
      "|06.X-2li|  16| 0.0|    1|augsburg| NULL|2017-05-06 00:25:00|\n",
      "|06.X-2li|  20| 0.0|    1|augsburg| NULL|2017-05-06 00:30:00|\n",
      "|06.X-2li|  20| 0.0|    1|augsburg| NULL|2017-05-06 00:35:00|\n",
      "|06.X-2li|  20| 0.0|    1|augsburg| NULL|2017-05-06 00:40:00|\n",
      "|06.X-2li|   8|0.01|    1|augsburg| NULL|2017-05-06 00:45:00|\n",
      "|06.X-2li|   8|0.01|    1|augsburg| NULL|2017-05-06 00:50:00|\n",
      "|06.X-2li|   8|0.01|    1|augsburg| NULL|2017-05-06 00:55:00|\n",
      "|06.X-2li|   4| 0.0|    1|augsburg| NULL|2017-05-06 01:00:00|\n",
      "|06.X-2li|   4| 0.0|    1|augsburg| NULL|2017-05-06 01:05:00|\n",
      "|06.X-2li|   4| 0.0|    1|augsburg| NULL|2017-05-06 01:10:00|\n",
      "|06.X-2li|   0| 0.0|    1|augsburg| NULL|2017-05-06 01:15:00|\n",
      "|06.X-2li|   0| 0.0|    1|augsburg| NULL|2017-05-06 01:20:00|\n",
      "|06.X-2li|   0| 0.0|    1|augsburg| NULL|2017-05-06 01:25:00|\n",
      "|06.X-2li|   4| 0.0|    1|augsburg| NULL|2017-05-06 01:30:00|\n",
      "|06.X-2li|   4| 0.0|    1|augsburg| NULL|2017-05-06 01:35:00|\n",
      "+--------+----+----+-----+--------+-----+-------------------+\n",
      "only showing top 20 rows\n",
      "\n"
     ]
    },
    {
     "name": "stderr",
     "output_type": "stream",
     "text": [
      "                                                                                \r"
     ]
    }
   ],
   "source": [
    "measurements_schema.show(20)"
   ]
  },
  {
   "cell_type": "code",
   "execution_count": 68,
   "metadata": {},
   "outputs": [],
   "source": [
    "spark.stop()"
   ]
  }
 ],
 "metadata": {
  "kernelspec": {
   "display_name": ".venv",
   "language": "python",
   "name": "python3"
  },
  "language_info": {
   "codemirror_mode": {
    "name": "ipython",
    "version": 3
   },
   "file_extension": ".py",
   "mimetype": "text/x-python",
   "name": "python",
   "nbconvert_exporter": "python",
   "pygments_lexer": "ipython3",
   "version": "3.9.6"
  }
 },
 "nbformat": 4,
 "nbformat_minor": 2
}
