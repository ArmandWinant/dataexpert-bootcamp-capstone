{
 "cells": [
  {
   "cell_type": "code",
   "execution_count": 5,
   "metadata": {},
   "outputs": [],
   "source": [
    "import boto3\n",
    "import numpy as np\n",
    "import pandas as pd\n",
    "from io import StringIO\n",
    "from time import time"
   ]
  },
  {
   "cell_type": "code",
   "execution_count": null,
   "metadata": {},
   "outputs": [],
   "source": [
    "def upload_raw_measurements():\n",
    "  s3_resource = boto3.resource('s3')\n",
    "  s3_client = boto3.client('s3')\n",
    "  s3_bucket = 'utd19-u-raw'\n",
    "\n",
    "  # create bucket if not exists\n",
    "  try:\n",
    "    location = {'LocationConstraint': 'eu-central-1'}\n",
    "\n",
    "    s3_client.create_bucket(\n",
    "      Bucket=s3_bucket,\n",
    "      CreateBucketConfiguration=location\n",
    "    )\n",
    "  except s3_client.exceptions.BucketAlreadyOwnedByYou:\n",
    "    print(f\"Bucket '{s3_bucket}' already exists\")\n",
    "\n",
    "  \n",
    "  dtypes = {\n",
    "    'day': pd.StringDtype(),\n",
    "    'interval': pd.Int64Dtype(),\n",
    "    'detid': pd.StringDtype(),\n",
    "    'flow': pd.Float64Dtype(),\n",
    "    'occ': pd.Float64Dtype(),\n",
    "    'error': pd.Int64Dtype(),\n",
    "    'city': pd.StringDtype(),\n",
    "    'speed': pd.Float64Dtype()\n",
    "  }\n",
    "\n",
    "  # read the file in chunks\n",
    "  df_iterator = pd.read_csv('./data/utd19_u.csv', chunksize=10000000, dtype=dtypes)\n",
    "\n",
    "  # upload chunks to S3\n",
    "  for index, df in enumerate(df_iterator):\n",
    "    t_start = time()\n",
    "\n",
    "    csv_buffer = StringIO()\n",
    "\n",
    "    df.to_csv(csv_buffer, index=False)\n",
    "    s3_resource.Object(s3_bucket, f\"raw/measurements/chunk_{index}.csv\").put(Body=csv_buffer.getvalue())\n",
    "\n",
    "    csv_buffer.close()\n",
    "\n",
    "    t_end = time()\n",
    "    print(f\"Partition {index} upload to {s3_bucket} in {(t_end - t_start):.3f} seconds\")\n",
    "  print(\"File upload complete.\")"
   ]
  },
  {
   "cell_type": "code",
   "execution_count": 13,
   "metadata": {},
   "outputs": [
    {
     "name": "stdout",
     "output_type": "stream",
     "text": [
      "Bucket 'utd19-u-raw' already exists\n",
      "Partition 0 upload to utd19-u-raw in 62.934 seconds\n",
      "Partition 1 upload to utd19-u-raw in 77.813 seconds\n",
      "Partition 2 upload to utd19-u-raw in 68.367 seconds\n",
      "Partition 3 upload to utd19-u-raw in 89.765 seconds\n",
      "Partition 4 upload to utd19-u-raw in 88.589 seconds\n",
      "Partition 5 upload to utd19-u-raw in 81.966 seconds\n",
      "Partition 6 upload to utd19-u-raw in 83.215 seconds\n",
      "Partition 7 upload to utd19-u-raw in 111.796 seconds\n",
      "Partition 8 upload to utd19-u-raw in 67.598 seconds\n",
      "Partition 9 upload to utd19-u-raw in 68.305 seconds\n",
      "Partition 10 upload to utd19-u-raw in 63.675 seconds\n",
      "Partition 11 upload to utd19-u-raw in 69.845 seconds\n",
      "Partition 12 upload to utd19-u-raw in 67.001 seconds\n",
      "Partition 13 upload to utd19-u-raw in 28.907 seconds\n",
      "File upload complete.\n"
     ]
    }
   ],
   "source": [
    "upload_raw_measurements()"
   ]
  },
  {
   "cell_type": "code",
   "execution_count": null,
   "metadata": {},
   "outputs": [],
   "source": []
  }
 ],
 "metadata": {
  "kernelspec": {
   "display_name": ".venv",
   "language": "python",
   "name": "python3"
  },
  "language_info": {
   "codemirror_mode": {
    "name": "ipython",
    "version": 3
   },
   "file_extension": ".py",
   "mimetype": "text/x-python",
   "name": "python",
   "nbconvert_exporter": "python",
   "pygments_lexer": "ipython3",
   "version": "3.9.6"
  }
 },
 "nbformat": 4,
 "nbformat_minor": 2
}
