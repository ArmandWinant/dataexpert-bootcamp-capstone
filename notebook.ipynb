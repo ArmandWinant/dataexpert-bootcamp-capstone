{
 "cells": [
  {
   "cell_type": "code",
   "execution_count": 27,
   "metadata": {},
   "outputs": [],
   "source": [
    "import boto3\n",
    "from botocore.exceptions import ClientError\n",
    "import pandas as pd\n",
    "from io import StringIO\n",
    "from time import time\n",
    "import logging\n",
    "import os"
   ]
  },
  {
   "cell_type": "code",
   "execution_count": 28,
   "metadata": {},
   "outputs": [],
   "source": [
    "def upload_raw_measurements():\n",
    "  s3_client = boto3.client('s3')\n",
    "  s3_bucket = 'utd19-u-raw'\n",
    "\n",
    "  # create bucket if not exists\n",
    "  try:\n",
    "    location = {'LocationConstraint': 'eu-central-1'}\n",
    "\n",
    "    s3_client.create_bucket(\n",
    "      Bucket=s3_bucket,\n",
    "      CreateBucketConfiguration=location\n",
    "    )\n",
    "  except s3_client.exceptions.BucketAlreadyOwnedByYou:\n",
    "    print(f\"Bucket '{s3_bucket}' already exists\")\n",
    "\n",
    "  \n",
    "  dtypes = {\n",
    "    'day': pd.StringDtype(),\n",
    "    'interval': pd.Int64Dtype(),\n",
    "    'detid': pd.StringDtype(),\n",
    "    'flow': pd.Float64Dtype(),\n",
    "    'occ': pd.Float64Dtype(),\n",
    "    'error': pd.Int64Dtype(),\n",
    "    'city': pd.StringDtype(),\n",
    "    'speed': pd.Float64Dtype()\n",
    "  }\n",
    "\n",
    "  # read the file in chunks\n",
    "  df_iterator = pd.read_csv('./data/utd19_u.csv', chunksize=10000000, dtype=dtypes)\n",
    "\n",
    "  # upload chunks to S3\n",
    "  for index, df in enumerate(df_iterator):\n",
    "    t_start = time()\n",
    "\n",
    "    csv_buffer = StringIO()\n",
    "\n",
    "    df.to_csv(csv_buffer, index=False)\n",
    "    s3_client.put_object(\n",
    "      Body=csv_buffer.getvalue(),\n",
    "      Bucket=s3_bucket,\n",
    "      Key=f\"measurements/chunk_{index}.csv\"\n",
    "    )\n",
    "\n",
    "    csv_buffer.close()\n",
    "\n",
    "    t_end = time()\n",
    "    print(f\"Partition {index} upload to {s3_bucket} in {(t_end - t_start):.3f} seconds\")\n",
    "  print(\"File upload complete.\")"
   ]
  },
  {
   "cell_type": "code",
   "execution_count": null,
   "metadata": {},
   "outputs": [
    {
     "name": "stdout",
     "output_type": "stream",
     "text": [
      "Bucket 'utd19-u-raw' already exists\n",
      "Partition 0 upload to utd19-u-raw in 67.190 seconds\n",
      "Partition 1 upload to utd19-u-raw in 68.340 seconds\n",
      "Partition 2 upload to utd19-u-raw in 73.269 seconds\n"
     ]
    }
   ],
   "source": [
    "upload_raw_measurements()"
   ]
  },
  {
   "cell_type": "code",
   "execution_count": null,
   "metadata": {},
   "outputs": [],
   "source": [
    "def upload_raw_links():\n",
    "  s3_client = boto3.client('s3')\n",
    "  s3_bucket = 'utd19-u-raw'\n",
    "\n",
    "  # create bucket if not exists\n",
    "  try:\n",
    "    location = {'LocationConstraint': 'eu-central-1'}\n",
    "\n",
    "    s3_client.create_bucket(\n",
    "      Bucket=s3_bucket,\n",
    "      CreateBucketConfiguration=location\n",
    "    )\n",
    "  except s3_client.exceptions.BucketAlreadyOwnedByYou:\n",
    "    print(f\"Bucket '{s3_bucket}' already exists\")\n",
    "\n",
    "  \n",
    "  dtypes = {\n",
    "    'long': pd.Float64Dtype(),\n",
    "    'lat': pd.Float64Dtype(),\n",
    "    'order': pd.Int64Dtype(),\n",
    "    'piece': pd.Int64Dtype(),\n",
    "    'linkid': pd.Int64Dtype(),\n",
    "    'group': pd.StringDtype(),\n",
    "    'city': pd.StringDtype()\n",
    "  }\n",
    "\n",
    "  file = './data/links.csv'\n",
    "\n",
    "  t_start = time()\n",
    "\n",
    "  with open(file, 'rb') as fileObj:\n",
    "    s3_client.upload_fileobj(fileObj, s3_bucket, 'links.csv')\n",
    "\n",
    "  t_end = time()\n",
    "  print(f\"File uploaded in {(t_end - t_start):.3f} seconds\")"
   ]
  },
  {
   "cell_type": "code",
   "execution_count": null,
   "metadata": {},
   "outputs": [
    {
     "name": "stdout",
     "output_type": "stream",
     "text": [
      "Bucket 'utd19-u-raw' already exists\n",
      "None\n",
      "File uploaded in 0.678 seconds\n"
     ]
    }
   ],
   "source": [
    "upload_raw_links()"
   ]
  },
  {
   "cell_type": "code",
   "execution_count": null,
   "metadata": {},
   "outputs": [],
   "source": []
  }
 ],
 "metadata": {
  "kernelspec": {
   "display_name": ".venv",
   "language": "python",
   "name": "python3"
  },
  "language_info": {
   "codemirror_mode": {
    "name": "ipython",
    "version": 3
   },
   "file_extension": ".py",
   "mimetype": "text/x-python",
   "name": "python",
   "nbconvert_exporter": "python",
   "pygments_lexer": "ipython3",
   "version": "3.9.6"
  }
 },
 "nbformat": 4,
 "nbformat_minor": 2
}
